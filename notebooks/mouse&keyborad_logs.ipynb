{
 "cells": [
  {
   "cell_type": "code",
   "execution_count": 1,
   "id": "38b15621-c9ff-4d13-8f2b-04feb3bc6e50",
   "metadata": {},
   "outputs": [],
   "source": [
    "import pandas as pd\n",
    "from sklearn.model_selection import train_test_split\n",
    "from sklearn.preprocessing import StandardScaler\n",
    "import numpy as np\n",
    "import bson\n",
    "from xgboost import XGBClassifier\n",
    "from sklearn.metrics import accuracy_score\n",
    "from sklearn.impute import SimpleImputer\n",
    "from sklearn.preprocessing import LabelEncoder\n",
    "import seaborn as sns\n",
    "import tensorflow as tf\n",
    "import matplotlib.pyplot as plt\n",
    "from sklearn.metrics import accuracy_score, classification_report\n",
    "from sklearn.ensemble import RandomForestClassifier\n",
    "from sklearn.model_selection import cross_val_score\n",
    "from sklearn.model_selection import TimeSeriesSplit"
   ]
  },
  {
   "cell_type": "code",
   "execution_count": 2,
   "id": "25902225-70c0-4720-9713-8244c53abc60",
   "metadata": {},
   "outputs": [],
   "source": [
    "mouse_data_path='D:\\mongofiles\\data\\mydatabase\\mouse_logs.bson'\n",
    "keyboard_data_path='D:\\mongofiles\\data\\mydatabase\\keyboard_usage_logs.bson'"
   ]
  },
  {
   "cell_type": "code",
   "execution_count": 3,
   "id": "2240c857-d637-4531-9ead-34b171d62938",
   "metadata": {},
   "outputs": [],
   "source": [
    "def load_multiple_bson_objects(file_path):\n",
    "    data = []\n",
    "    with open(file_path, 'rb') as file:\n",
    "        for document in bson.decode_all(file.read()):\n",
    "            data.append(document)\n",
    "    return data"
   ]
  },
  {
   "cell_type": "code",
   "execution_count": 4,
   "id": "49a3bd78-4034-40ea-b3ab-2281d44ae25c",
   "metadata": {},
   "outputs": [],
   "source": [
    "mouse_data=load_multiple_bson_objects(mouse_data_path)\n",
    "keyboard_data=load_multiple_bson_objects(keyboard_data_path)"
   ]
  },
  {
   "cell_type": "code",
   "execution_count": 5,
   "id": "403f6e83-2f7c-447e-98a8-537bd888b288",
   "metadata": {},
   "outputs": [],
   "source": [
    "def convert_to_data_frame(row_data):\n",
    "    data_frames = []\n",
    "    \n",
    "    for i in range(len(row_data)):\n",
    "        current_user = row_data[i]['user_id']\n",
    "        if row_data == keyboard_data:\n",
    "            current_data_frame = pd.DataFrame(row_data[i]['events'])\n",
    "        else:\n",
    "            current_data_frame = pd.DataFrame(row_data[i]['data'])\n",
    "        current_data_frame['user_id'] = current_user\n",
    "        data_frames.append(current_data_frame)\n",
    "\n",
    "    df = pd.concat(data_frames, ignore_index=True)\n",
    "    df = df.drop_duplicates()\n",
    "    return df"
   ]
  },
  {
   "cell_type": "code",
   "execution_count": 6,
   "id": "5d3840db-beb6-409c-80bc-d086033a07b3",
   "metadata": {},
   "outputs": [],
   "source": [
    "mouse_data=convert_to_data_frame(mouse_data)\n",
    "KeyBoardData=convert_to_data_frame(keyboard_data)"
   ]
  },
  {
   "cell_type": "code",
   "execution_count": 7,
   "id": "9c0b4193-770e-4c6a-872f-11e0c94db154",
   "metadata": {},
   "outputs": [
    {
     "data": {
      "text/plain": [
       "((1984, 4), (15451, 10))"
      ]
     },
     "execution_count": 7,
     "metadata": {},
     "output_type": "execute_result"
    }
   ],
   "source": [
    "KeyBoardData.shape,  mouse_data.shape"
   ]
  },
  {
   "cell_type": "code",
   "execution_count": 8,
   "id": "2f025b6d-f3fe-443f-b3d9-273cd1e063bb",
   "metadata": {},
   "outputs": [
    {
     "data": {
      "text/plain": [
       "Index(['time', 'elapsed_time', 'event', 'x', 'y', 'velocity', 'acceleration',\n",
       "       'direction', 'click_duration', 'user_id'],\n",
       "      dtype='object')"
      ]
     },
     "execution_count": 8,
     "metadata": {},
     "output_type": "execute_result"
    }
   ],
   "source": [
    "mouse_data.columns"
   ]
  },
  {
   "cell_type": "code",
   "execution_count": 9,
   "id": "0db3326c-4364-437c-9813-aeb512b720eb",
   "metadata": {},
   "outputs": [
    {
     "data": {
      "text/plain": [
       "Index(['event', 'key', 'timestamp', 'user_id'], dtype='object')"
      ]
     },
     "execution_count": 9,
     "metadata": {},
     "output_type": "execute_result"
    }
   ],
   "source": [
    "KeyBoardData.columns"
   ]
  },
  {
   "cell_type": "code",
   "execution_count": 10,
   "id": "3d79fa7a-c85e-4007-8f14-4a72b00eb47d",
   "metadata": {},
   "outputs": [],
   "source": [
    "mouse_data.set_index('time',inplace=True)\n",
    "KeyBoardData.set_index('timestamp',inplace=True)"
   ]
  },
  {
   "cell_type": "code",
   "execution_count": 11,
   "id": "5b713143-9dd9-438e-9794-aaa5ccc30b86",
   "metadata": {},
   "outputs": [],
   "source": [
    "mouse_data.index = pd.to_datetime(mouse_data.index)\n",
    "\n",
    "mouse_data['day_of_week'] = mouse_data.index.dayofweek\n",
    "mouse_data['hour_of_day'] = mouse_data.index.hour\n",
    "mouse_data['minute_of_hour'] = mouse_data.index.minute\n",
    "\n",
    "lagged_features = ['x', 'y', 'velocity', 'acceleration']\n",
    "for feature in lagged_features:\n",
    "    mouse_data[f'{feature}_lag1'] = mouse_data[feature].shift(1)\n",
    "\n",
    "mouse_data['velocity_rolling_mean'] = mouse_data['velocity'].rolling(window=5).mean()\n",
    "\n",
    "mouse_data['hour_sin'] = np.sin(2 * np.pi * mouse_data['hour_of_day']/24)\n",
    "mouse_data['hour_cos'] = np.cos(2 * np.pi * mouse_data['hour_of_day']/24)\n",
    "mouse_data['day_of_week_sin'] = np.sin(2 * np.pi * mouse_data['day_of_week']/7)\n",
    "mouse_data['day_of_week_cos'] = np.cos(2 * np.pi * mouse_data['day_of_week']/7)"
   ]
  },
  {
   "cell_type": "code",
   "execution_count": 12,
   "id": "c3746c69-8e06-4df4-ba04-d889221ece85",
   "metadata": {},
   "outputs": [
    {
     "data": {
      "text/html": [
       "<div>\n",
       "<style scoped>\n",
       "    .dataframe tbody tr th:only-of-type {\n",
       "        vertical-align: middle;\n",
       "    }\n",
       "\n",
       "    .dataframe tbody tr th {\n",
       "        vertical-align: top;\n",
       "    }\n",
       "\n",
       "    .dataframe thead th {\n",
       "        text-align: right;\n",
       "    }\n",
       "</style>\n",
       "<table border=\"1\" class=\"dataframe\">\n",
       "  <thead>\n",
       "    <tr style=\"text-align: right;\">\n",
       "      <th></th>\n",
       "      <th>elapsed_time</th>\n",
       "      <th>event</th>\n",
       "      <th>x</th>\n",
       "      <th>y</th>\n",
       "      <th>velocity</th>\n",
       "      <th>acceleration</th>\n",
       "      <th>direction</th>\n",
       "      <th>click_duration</th>\n",
       "      <th>user_id</th>\n",
       "      <th>day_of_week</th>\n",
       "      <th>...</th>\n",
       "      <th>minute_of_hour</th>\n",
       "      <th>x_lag1</th>\n",
       "      <th>y_lag1</th>\n",
       "      <th>velocity_lag1</th>\n",
       "      <th>acceleration_lag1</th>\n",
       "      <th>velocity_rolling_mean</th>\n",
       "      <th>hour_sin</th>\n",
       "      <th>hour_cos</th>\n",
       "      <th>day_of_week_sin</th>\n",
       "      <th>day_of_week_cos</th>\n",
       "    </tr>\n",
       "    <tr>\n",
       "      <th>time</th>\n",
       "      <th></th>\n",
       "      <th></th>\n",
       "      <th></th>\n",
       "      <th></th>\n",
       "      <th></th>\n",
       "      <th></th>\n",
       "      <th></th>\n",
       "      <th></th>\n",
       "      <th></th>\n",
       "      <th></th>\n",
       "      <th></th>\n",
       "      <th></th>\n",
       "      <th></th>\n",
       "      <th></th>\n",
       "      <th></th>\n",
       "      <th></th>\n",
       "      <th></th>\n",
       "      <th></th>\n",
       "      <th></th>\n",
       "      <th></th>\n",
       "      <th></th>\n",
       "    </tr>\n",
       "  </thead>\n",
       "  <tbody>\n",
       "    <tr>\n",
       "      <th>2024-05-08 23:59:06.364</th>\n",
       "      <td>272</td>\n",
       "      <td>Move</td>\n",
       "      <td>45</td>\n",
       "      <td>269</td>\n",
       "      <td>NaN</td>\n",
       "      <td>NaN</td>\n",
       "      <td>NaN</td>\n",
       "      <td>NaN</td>\n",
       "      <td>66322d94f89c7cd14b365ea8</td>\n",
       "      <td>2</td>\n",
       "      <td>...</td>\n",
       "      <td>59</td>\n",
       "      <td>NaN</td>\n",
       "      <td>NaN</td>\n",
       "      <td>NaN</td>\n",
       "      <td>NaN</td>\n",
       "      <td>NaN</td>\n",
       "      <td>-0.258819</td>\n",
       "      <td>0.965926</td>\n",
       "      <td>0.974928</td>\n",
       "      <td>-0.222521</td>\n",
       "    </tr>\n",
       "    <tr>\n",
       "      <th>2024-05-08 23:59:06.372</th>\n",
       "      <td>280</td>\n",
       "      <td>Move</td>\n",
       "      <td>76</td>\n",
       "      <td>281</td>\n",
       "      <td>0.000000</td>\n",
       "      <td>0.000000</td>\n",
       "      <td>0.000000</td>\n",
       "      <td>0.0</td>\n",
       "      <td>66322d94f89c7cd14b365ea8</td>\n",
       "      <td>2</td>\n",
       "      <td>...</td>\n",
       "      <td>59</td>\n",
       "      <td>45.0</td>\n",
       "      <td>269.0</td>\n",
       "      <td>NaN</td>\n",
       "      <td>NaN</td>\n",
       "      <td>NaN</td>\n",
       "      <td>-0.258819</td>\n",
       "      <td>0.965926</td>\n",
       "      <td>0.974928</td>\n",
       "      <td>-0.222521</td>\n",
       "    </tr>\n",
       "    <tr>\n",
       "      <th>2024-05-08 23:59:06.379</th>\n",
       "      <td>288</td>\n",
       "      <td>Move</td>\n",
       "      <td>106</td>\n",
       "      <td>291</td>\n",
       "      <td>3952.847075</td>\n",
       "      <td>3952.847075</td>\n",
       "      <td>18.434949</td>\n",
       "      <td>8.0</td>\n",
       "      <td>66322d94f89c7cd14b365ea8</td>\n",
       "      <td>2</td>\n",
       "      <td>...</td>\n",
       "      <td>59</td>\n",
       "      <td>76.0</td>\n",
       "      <td>281.0</td>\n",
       "      <td>0.000000</td>\n",
       "      <td>0.000000</td>\n",
       "      <td>NaN</td>\n",
       "      <td>-0.258819</td>\n",
       "      <td>0.965926</td>\n",
       "      <td>0.974928</td>\n",
       "      <td>-0.222521</td>\n",
       "    </tr>\n",
       "    <tr>\n",
       "      <th>2024-05-08 23:59:06.386</th>\n",
       "      <td>295</td>\n",
       "      <td>Move</td>\n",
       "      <td>131</td>\n",
       "      <td>301</td>\n",
       "      <td>3846.546291</td>\n",
       "      <td>-560845.893025</td>\n",
       "      <td>21.801409</td>\n",
       "      <td>7.0</td>\n",
       "      <td>66322d94f89c7cd14b365ea8</td>\n",
       "      <td>2</td>\n",
       "      <td>...</td>\n",
       "      <td>59</td>\n",
       "      <td>106.0</td>\n",
       "      <td>291.0</td>\n",
       "      <td>3952.847075</td>\n",
       "      <td>3952.847075</td>\n",
       "      <td>NaN</td>\n",
       "      <td>-0.258819</td>\n",
       "      <td>0.965926</td>\n",
       "      <td>0.974928</td>\n",
       "      <td>-0.222521</td>\n",
       "    </tr>\n",
       "    <tr>\n",
       "      <th>2024-05-08 23:59:06.393</th>\n",
       "      <td>302</td>\n",
       "      <td>Move</td>\n",
       "      <td>154</td>\n",
       "      <td>312</td>\n",
       "      <td>3642.156795</td>\n",
       "      <td>-545864.456177</td>\n",
       "      <td>25.559965</td>\n",
       "      <td>7.0</td>\n",
       "      <td>66322d94f89c7cd14b365ea8</td>\n",
       "      <td>2</td>\n",
       "      <td>...</td>\n",
       "      <td>59</td>\n",
       "      <td>131.0</td>\n",
       "      <td>301.0</td>\n",
       "      <td>3846.546291</td>\n",
       "      <td>-560845.893025</td>\n",
       "      <td>NaN</td>\n",
       "      <td>-0.258819</td>\n",
       "      <td>0.965926</td>\n",
       "      <td>0.974928</td>\n",
       "      <td>-0.222521</td>\n",
       "    </tr>\n",
       "  </tbody>\n",
       "</table>\n",
       "<p>5 rows × 21 columns</p>\n",
       "</div>"
      ],
      "text/plain": [
       "                         elapsed_time event    x    y     velocity  \\\n",
       "time                                                                 \n",
       "2024-05-08 23:59:06.364           272  Move   45  269          NaN   \n",
       "2024-05-08 23:59:06.372           280  Move   76  281     0.000000   \n",
       "2024-05-08 23:59:06.379           288  Move  106  291  3952.847075   \n",
       "2024-05-08 23:59:06.386           295  Move  131  301  3846.546291   \n",
       "2024-05-08 23:59:06.393           302  Move  154  312  3642.156795   \n",
       "\n",
       "                          acceleration  direction  click_duration  \\\n",
       "time                                                                \n",
       "2024-05-08 23:59:06.364            NaN        NaN             NaN   \n",
       "2024-05-08 23:59:06.372       0.000000   0.000000             0.0   \n",
       "2024-05-08 23:59:06.379    3952.847075  18.434949             8.0   \n",
       "2024-05-08 23:59:06.386 -560845.893025  21.801409             7.0   \n",
       "2024-05-08 23:59:06.393 -545864.456177  25.559965             7.0   \n",
       "\n",
       "                                          user_id  day_of_week  ...  \\\n",
       "time                                                            ...   \n",
       "2024-05-08 23:59:06.364  66322d94f89c7cd14b365ea8            2  ...   \n",
       "2024-05-08 23:59:06.372  66322d94f89c7cd14b365ea8            2  ...   \n",
       "2024-05-08 23:59:06.379  66322d94f89c7cd14b365ea8            2  ...   \n",
       "2024-05-08 23:59:06.386  66322d94f89c7cd14b365ea8            2  ...   \n",
       "2024-05-08 23:59:06.393  66322d94f89c7cd14b365ea8            2  ...   \n",
       "\n",
       "                         minute_of_hour  x_lag1  y_lag1  velocity_lag1  \\\n",
       "time                                                                     \n",
       "2024-05-08 23:59:06.364              59     NaN     NaN            NaN   \n",
       "2024-05-08 23:59:06.372              59    45.0   269.0            NaN   \n",
       "2024-05-08 23:59:06.379              59    76.0   281.0       0.000000   \n",
       "2024-05-08 23:59:06.386              59   106.0   291.0    3952.847075   \n",
       "2024-05-08 23:59:06.393              59   131.0   301.0    3846.546291   \n",
       "\n",
       "                         acceleration_lag1  velocity_rolling_mean  hour_sin  \\\n",
       "time                                                                          \n",
       "2024-05-08 23:59:06.364                NaN                    NaN -0.258819   \n",
       "2024-05-08 23:59:06.372                NaN                    NaN -0.258819   \n",
       "2024-05-08 23:59:06.379           0.000000                    NaN -0.258819   \n",
       "2024-05-08 23:59:06.386        3952.847075                    NaN -0.258819   \n",
       "2024-05-08 23:59:06.393     -560845.893025                    NaN -0.258819   \n",
       "\n",
       "                         hour_cos  day_of_week_sin  day_of_week_cos  \n",
       "time                                                                 \n",
       "2024-05-08 23:59:06.364  0.965926         0.974928        -0.222521  \n",
       "2024-05-08 23:59:06.372  0.965926         0.974928        -0.222521  \n",
       "2024-05-08 23:59:06.379  0.965926         0.974928        -0.222521  \n",
       "2024-05-08 23:59:06.386  0.965926         0.974928        -0.222521  \n",
       "2024-05-08 23:59:06.393  0.965926         0.974928        -0.222521  \n",
       "\n",
       "[5 rows x 21 columns]"
      ]
     },
     "execution_count": 12,
     "metadata": {},
     "output_type": "execute_result"
    }
   ],
   "source": [
    "mouse_data.head()"
   ]
  },
  {
   "cell_type": "code",
   "execution_count": 13,
   "id": "c7d5a449-6c5d-4f33-bb45-9fc0225f5891",
   "metadata": {},
   "outputs": [],
   "source": [
    "label_encoder = LabelEncoder()\n",
    "mouse_data['user_id'] = label_encoder.fit_transform(mouse_data['user_id'])\n",
    "mouse_data['event'] = label_encoder.fit_transform(mouse_data['event'])\n",
    "mouse_data.rename(columns={'event': 'mouse_event'}, inplace=True)"
   ]
  },
  {
   "cell_type": "code",
   "execution_count": 14,
   "id": "31765b7d-c6fa-4bec-9195-2b3be054cae0",
   "metadata": {},
   "outputs": [],
   "source": [
    "mouse_data.reset_index(drop=True,inplace=True)"
   ]
  },
  {
   "cell_type": "code",
   "execution_count": 15,
   "id": "a87510bb-551e-4765-a971-089ee7a821dc",
   "metadata": {},
   "outputs": [],
   "source": [
    "mouse_data.replace('null', pd.NA, inplace=True)\n",
    "imputer = SimpleImputer(strategy='mean')\n",
    "mouse_data = pd.DataFrame(imputer.fit_transform(mouse_data), index=mouse_data.index, columns=mouse_data.columns)\n",
    "mouse_data.dropna(inplace=True)"
   ]
  },
  {
   "cell_type": "markdown",
   "id": "c71594ab-76d3-4e4e-b8cf-409f231641cf",
   "metadata": {},
   "source": [
    "# process keyBoardData"
   ]
  },
  {
   "cell_type": "code",
   "execution_count": 16,
   "id": "ab280145-190c-4e32-a3f5-6cdcde14b6fb",
   "metadata": {},
   "outputs": [],
   "source": [
    "label_encoder = LabelEncoder()\n",
    "KeyBoardData['key'] = label_encoder.fit_transform(KeyBoardData['key'])\n",
    "KeyBoardData['event'] = label_encoder.fit_transform(KeyBoardData['event'])\n",
    "KeyBoardData.rename(columns={'event': 'keyboard_event'}, inplace=True)\n",
    "\n",
    "KeyBoardData.index = pd.to_datetime(KeyBoardData.index)\n",
    "# new test wihtout milliseconds\n",
    "KeyBoardData['day_of_week'] = KeyBoardData.index.dayofweek\n",
    "KeyBoardData['hour_of_day'] = KeyBoardData.index.hour\n",
    "KeyBoardData['minute_of_hour'] = KeyBoardData.index.minute\n",
    "\n",
    "KeyBoardData['key_lag1'] = KeyBoardData['key'].shift(1)\n",
    "\n",
    "KeyBoardData['hour_sin'] = np.sin(2 * np.pi * KeyBoardData['hour_of_day']/24)\n",
    "KeyBoardData['hour_cos'] = np.cos(2 * np.pi * KeyBoardData['hour_of_day']/24)\n",
    "KeyBoardData['day_of_week_sin'] = np.sin(2 * np.pi * KeyBoardData['day_of_week']/7)\n",
    "KeyBoardData['day_of_week_cos'] = np.cos(2 * np.pi * KeyBoardData['day_of_week']/7)\n"
   ]
  },
  {
   "cell_type": "code",
   "execution_count": 17,
   "id": "b1c6fbf1-5567-45b6-9a08-1acc30355a0e",
   "metadata": {},
   "outputs": [],
   "source": [
    "label_encoder = LabelEncoder()\n",
    "KeyBoardData['user_id'] = label_encoder.fit_transform(KeyBoardData['user_id'])"
   ]
  },
  {
   "cell_type": "code",
   "execution_count": 18,
   "id": "6931d612-fd34-4c8c-8fd2-15124e91b956",
   "metadata": {},
   "outputs": [],
   "source": [
    "mouse_data.drop(columns=['user_id'], inplace=True)\n",
    "\n",
    "if not KeyBoardData.index.is_unique:\n",
    "    KeyBoardData = KeyBoardData.reset_index()\n",
    "\n",
    "mouse_data = mouse_data.iloc[:1900, :]\n",
    "KeyBoardData = KeyBoardData.iloc[:1900, :]"
   ]
  },
  {
   "cell_type": "code",
   "execution_count": 19,
   "id": "dc1cf4a6-a21b-4648-ba42-a7fe9625109e",
   "metadata": {},
   "outputs": [],
   "source": [
    "result_df = pd.concat([KeyBoardData, mouse_data], axis=1)"
   ]
  },
  {
   "cell_type": "code",
   "execution_count": 20,
   "id": "3ba4d9a7-26e0-4c42-bde7-b34508b39da8",
   "metadata": {},
   "outputs": [
    {
     "data": {
      "text/plain": [
       "Index(['timestamp', 'keyboard_event', 'key', 'user_id', 'day_of_week',\n",
       "       'hour_of_day', 'minute_of_hour', 'key_lag1', 'hour_sin', 'hour_cos',\n",
       "       'day_of_week_sin', 'day_of_week_cos', 'elapsed_time', 'mouse_event',\n",
       "       'x', 'y', 'velocity', 'acceleration', 'direction', 'click_duration',\n",
       "       'day_of_week', 'hour_of_day', 'minute_of_hour', 'x_lag1', 'y_lag1',\n",
       "       'velocity_lag1', 'acceleration_lag1', 'velocity_rolling_mean',\n",
       "       'hour_sin', 'hour_cos', 'day_of_week_sin', 'day_of_week_cos'],\n",
       "      dtype='object')"
      ]
     },
     "execution_count": 20,
     "metadata": {},
     "output_type": "execute_result"
    }
   ],
   "source": [
    "result_df.columns"
   ]
  },
  {
   "cell_type": "code",
   "execution_count": 21,
   "id": "57216b50-deeb-4bec-b274-f9fb5fb9d3ba",
   "metadata": {},
   "outputs": [],
   "source": [
    "result_df.set_index('timestamp',inplace=True)"
   ]
  },
  {
   "cell_type": "code",
   "execution_count": 22,
   "id": "7e39c8e5-507e-49e1-ba09-65f1fbe0403c",
   "metadata": {},
   "outputs": [],
   "source": [
    "feature_columns = ['keyboard_event', 'key', 'day_of_week', 'hour_of_day', 'minute_of_hour', 'key_lag1',\n",
    "                   'hour_sin', 'hour_cos', 'day_of_week_sin', 'day_of_week_cos', 'elapsed_time','mouse_event',\n",
    "                   'x', 'y', 'velocity', 'acceleration', 'direction', 'click_duration',\n",
    "                   'x_lag1', 'y_lag1', 'velocity_lag1', 'acceleration_lag1', 'velocity_rolling_mean',\n",
    "                  'hour_sin', 'hour_cos', 'day_of_week_sin', 'day_of_week_cos',]\n",
    "result_df.fillna(0, inplace=True)\n",
    "\n",
    "X = result_df[feature_columns]\n",
    "y = result_df['user_id']\n"
   ]
  },
  {
   "cell_type": "code",
   "execution_count": 23,
   "id": "7a8067d5-f6ab-41d7-beb9-09579eaf86ee",
   "metadata": {},
   "outputs": [
    {
     "data": {
      "text/plain": [
       "Index(['keyboard_event', 'key', 'user_id', 'day_of_week', 'hour_of_day',\n",
       "       'minute_of_hour', 'key_lag1', 'hour_sin', 'hour_cos', 'day_of_week_sin',\n",
       "       'day_of_week_cos', 'elapsed_time', 'mouse_event', 'x', 'y', 'velocity',\n",
       "       'acceleration', 'direction', 'click_duration', 'day_of_week',\n",
       "       'hour_of_day', 'minute_of_hour', 'x_lag1', 'y_lag1', 'velocity_lag1',\n",
       "       'acceleration_lag1', 'velocity_rolling_mean', 'hour_sin', 'hour_cos',\n",
       "       'day_of_week_sin', 'day_of_week_cos'],\n",
       "      dtype='object')"
      ]
     },
     "execution_count": 23,
     "metadata": {},
     "output_type": "execute_result"
    }
   ],
   "source": [
    "result_df.columns"
   ]
  },
  {
   "cell_type": "code",
   "execution_count": 24,
   "id": "73a283f2-6117-4400-bd0d-957839119014",
   "metadata": {},
   "outputs": [],
   "source": [
    "tscv = TimeSeriesSplit(n_splits=5)"
   ]
  },
  {
   "cell_type": "code",
   "execution_count": 25,
   "id": "ba873a71-4e9d-48fe-b2ba-3f9a171f7610",
   "metadata": {},
   "outputs": [],
   "source": [
    "X_train, X_test, y_train, y_test = train_test_split(X, y, test_size=0.2, random_state=42)"
   ]
  },
  {
   "cell_type": "code",
   "execution_count": 26,
   "id": "3badb29b-8973-47b6-99c2-59bdd7ecacb8",
   "metadata": {},
   "outputs": [
    {
     "name": "stdout",
     "output_type": "stream",
     "text": [
      "Accuracy:  0.9973684210526316\n",
      "Classification Report: \n",
      "               precision    recall  f1-score   support\n",
      "\n",
      "           0       1.00      1.00      1.00        10\n",
      "           1       1.00      1.00      1.00       333\n",
      "           2       1.00      1.00      1.00         6\n",
      "           3       1.00      1.00      1.00         3\n",
      "           4       1.00      1.00      1.00         2\n",
      "           5       0.96      1.00      0.98        23\n",
      "           6       1.00      0.67      0.80         3\n",
      "\n",
      "    accuracy                           1.00       380\n",
      "   macro avg       0.99      0.95      0.97       380\n",
      "weighted avg       1.00      1.00      1.00       380\n",
      "\n",
      "Cross-validation scores:  [0.99013158 0.99671053 0.98684211 0.99671053 0.99013158]\n",
      "Mean accuracy:  0.9921052631578947\n",
      "Standard deviation of accuracy:  0.0039473684210526395\n",
      "TimeSeriesSplit cross-validation scores:  [0.94466403 0.98814229 0.98418972 0.99604743 0.99604743]\n",
      "Mean TimeSeriesSplit accuracy:  0.9818181818181818\n",
      "Standard deviation of TimeSeriesSplit accuracy:  0.019136313734245392\n"
     ]
    }
   ],
   "source": [
    "rf = RandomForestClassifier(n_estimators=100, random_state=42)\n",
    "rf.fit(X_train, y_train)\n",
    "\n",
    "cv_scores = cross_val_score(rf,X_train,y_train, cv=5, scoring='accuracy')\n",
    "tscv_scores = cross_val_score(rf,X_train,y_train, cv=tscv, scoring='accuracy')\n",
    "\n",
    "y_pred = rf.predict(X_test)\n",
    "\n",
    "accuracy = accuracy_score(y_test, y_pred)\n",
    "print(\"Accuracy: \", accuracy)\n",
    "print(\"Classification Report: \\n\", classification_report(y_test, y_pred))\n",
    "\n",
    "print(\"Cross-validation scores: \", cv_scores)\n",
    "print(\"Mean accuracy: \", np.mean(cv_scores))\n",
    "print(\"Standard deviation of accuracy: \", np.std(cv_scores))\n",
    "\n",
    "print(\"TimeSeriesSplit cross-validation scores: \", tscv_scores)\n",
    "print(\"Mean TimeSeriesSplit accuracy: \", np.mean(tscv_scores))\n",
    "print(\"Standard deviation of TimeSeriesSplit accuracy: \", np.std(tscv_scores))\n",
    "\n",
    "feature_importances = rf.feature_importances_\n"
   ]
  },
  {
   "cell_type": "code",
   "execution_count": 27,
   "id": "878f223b-ad9a-46bb-bab7-00d7c6d0635c",
   "metadata": {},
   "outputs": [
    {
     "data": {
      "image/png": "[encoded data removed]",
      "text/plain": [
       "<Figure size 1000x600 with 1 Axes>"
      ]
     },
     "metadata": {},
     "output_type": "display_data"
    }
   ],
   "source": [
    "feature_importances = rf.feature_importances_\n",
    "feature_names = X_train.columns\n",
    "sorted_indices = np.argsort(feature_importances)[::-1]\n",
    "plt.figure(figsize=(10, 6))\n",
    "plt.bar(range(len(feature_importances)), feature_importances[sorted_indices], align='center')\n",
    "plt.xticks(range(len(feature_importances)), feature_names[sorted_indices], rotation=90)\n",
    "plt.xlabel('Features')\n",
    "plt.ylabel('Importance')\n",
    "plt.title('Feature Importances')\n",
    "plt.show()"
   ]
  },
  {
   "cell_type": "code",
   "execution_count": 28,
   "id": "e0ffac82-6cd5-4d79-bc75-922fc04f7d21",
   "metadata": {},
   "outputs": [],
   "source": [
    "# stop here right now"
   ]
  }
 ],
 "metadata": {
  "kernelspec": {
   "display_name": "Python 3 (ipykernel)",
   "language": "python",
   "name": "python3"
  },
  "language_info": {
   "codemirror_mode": {
    "name": "ipython",
    "version": 3
   },
   "file_extension": ".py",
   "mimetype": "text/x-python",
   "name": "python",
   "nbconvert_exporter": "python",
   "pygments_lexer": "ipython3",
   "version": "3.8.19"
  }
 },
 "nbformat": 4,
 "nbformat_minor": 5
}
