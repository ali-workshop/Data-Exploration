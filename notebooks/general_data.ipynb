{
 "cells": [
  {
   "cell_type": "code",
   "execution_count": 1,
   "id": "8026ee90-ee76-40f3-ba11-60270c021dd4",
   "metadata": {},
   "outputs": [],
   "source": [
    "# Import libraries\n",
    "import pandas as pd\n",
    "import numpy as np\n",
    "from sklearn.model_selection import train_test_split\n",
    "from sklearn.preprocessing import StandardScaler, LabelEncoder\n",
    "from sklearn.impute import SimpleImputer\n",
    "from sklearn.metrics import accuracy_score\n",
    "from xgboost import XGBClassifier\n",
    "import seaborn as sns\n",
    "import tensorflow as tf\n",
    "import matplotlib.pyplot as plt\n",
    "from datetime import datetime\n",
    "import re\n",
    "import bson"
   ]
  },
  {
   "cell_type": "markdown",
   "id": "3daf5395-00e6-42b1-9017-eef86302a97c",
   "metadata": {},
   "source": [
    " # simple Exploration"
   ]
  },
  {
   "cell_type": "code",
   "execution_count": 2,
   "id": "b986c163-5b89-4819-bc60-f6f5e275ccf5",
   "metadata": {},
   "outputs": [],
   "source": [
    "# Define function to load multiple BSON objects from a file\n",
    "def load_multiple_bson_objects(file_path):\n",
    "    data = []\n",
    "    with open(file_path, 'rb') as file:\n",
    "        for document in bson.decode_all(file.read()):\n",
    "            data.append(document)\n",
    "    return data\n"
   ]
  },
  {
   "cell_type": "code",
   "execution_count": 3,
   "id": "5c3b6bd1-dca9-4175-baee-d4ddac8c8896",
   "metadata": {},
   "outputs": [],
   "source": [
    "general_data_path=\"D:\\mongofiles\\data\\mydatabase\\general_data.bson\""
   ]
  },
  {
   "cell_type": "code",
   "execution_count": 4,
   "id": "78761fba-ed2b-42f7-abc6-f42a9f4ded83",
   "metadata": {},
   "outputs": [],
   "source": [
    "general_data = load_multiple_bson_objects(general_data_path)"
   ]
  },
  {
   "cell_type": "code",
   "execution_count": 5,
   "id": "0b58fde5-e33a-4d2c-9dcf-ba5342e20b9b",
   "metadata": {},
   "outputs": [],
   "source": [
    "# Convert general data to a DataFrame\n",
    "general_data = pd.DataFrame(general_data)"
   ]
  },
  {
   "cell_type": "code",
   "execution_count": 6,
   "id": "7ea06f53-5786-42c3-8151-b38c0693a459",
   "metadata": {},
   "outputs": [
    {
     "data": {
      "text/plain": [
       "(3, 16)"
      ]
     },
     "execution_count": 6,
     "metadata": {},
     "output_type": "execute_result"
    }
   ],
   "source": [
    "general_data.shape"
   ]
  },
  {
   "cell_type": "code",
   "execution_count": 7,
   "id": "9528a428-c4eb-4ee6-9245-2bc32604f95f",
   "metadata": {},
   "outputs": [
    {
     "data": {
      "text/plain": [
       "Index(['_id', 'user_id', 'username', 'ip', 'mac', 'location', 'city',\n",
       "       'country', 'coordinates', 'isp', 'number_of_screens', 'browser_info',\n",
       "       'browser_version', 'platform', 'user_agent', 'timestamp'],\n",
       "      dtype='object')"
      ]
     },
     "execution_count": 7,
     "metadata": {},
     "output_type": "execute_result"
    }
   ],
   "source": [
    "general_data.columns"
   ]
  },
  {
   "cell_type": "code",
   "execution_count": 8,
   "id": "0146ef55-9717-4e45-bf60-958fee0abd1a",
   "metadata": {},
   "outputs": [
    {
     "data": {
      "text/html": [
       "<div>\n",
       "<style scoped>\n",
       "    .dataframe tbody tr th:only-of-type {\n",
       "        vertical-align: middle;\n",
       "    }\n",
       "\n",
       "    .dataframe tbody tr th {\n",
       "        vertical-align: top;\n",
       "    }\n",
       "\n",
       "    .dataframe thead th {\n",
       "        text-align: right;\n",
       "    }\n",
       "</style>\n",
       "<table border=\"1\" class=\"dataframe\">\n",
       "  <thead>\n",
       "    <tr style=\"text-align: right;\">\n",
       "      <th></th>\n",
       "      <th>_id</th>\n",
       "      <th>user_id</th>\n",
       "      <th>username</th>\n",
       "      <th>ip</th>\n",
       "      <th>mac</th>\n",
       "      <th>location</th>\n",
       "      <th>city</th>\n",
       "      <th>country</th>\n",
       "      <th>coordinates</th>\n",
       "      <th>isp</th>\n",
       "      <th>number_of_screens</th>\n",
       "      <th>browser_info</th>\n",
       "      <th>browser_version</th>\n",
       "      <th>platform</th>\n",
       "      <th>user_agent</th>\n",
       "      <th>timestamp</th>\n",
       "    </tr>\n",
       "  </thead>\n",
       "  <tbody>\n",
       "    <tr>\n",
       "      <th>0</th>\n",
       "      <td>665057e8b4bee6cd9cb53210</td>\n",
       "      <td>66322d94f89c7cd14b365ea8</td>\n",
       "      <td>mahad</td>\n",
       "      <td>94.204.58.82</td>\n",
       "      <td>F4:39:09:77:D5:5B</td>\n",
       "      <td>N/A</td>\n",
       "      <td>N/A</td>\n",
       "      <td>N/A</td>\n",
       "      <td>[N/A, N/A]</td>\n",
       "      <td>N/A</td>\n",
       "      <td>1</td>\n",
       "      <td>N/A</td>\n",
       "      <td>N/A</td>\n",
       "      <td>N/A</td>\n",
       "      <td>Mozilla/5.0 (Windows NT 10.0; Win64; x64; rv:1...</td>\n",
       "      <td>2024-05-24 13:03:36.930</td>\n",
       "    </tr>\n",
       "    <tr>\n",
       "      <th>1</th>\n",
       "      <td>665058db079089a76c98e652</td>\n",
       "      <td>66322d94f89c7cd14b365ea8</td>\n",
       "      <td>mahad</td>\n",
       "      <td>94.204.58.82</td>\n",
       "      <td>F4:39:09:77:D5:5B</td>\n",
       "      <td>Dubai</td>\n",
       "      <td>Dubai</td>\n",
       "      <td>United Arab Emirates</td>\n",
       "      <td>[25.0731, 55.298]</td>\n",
       "      <td>Emirates Integrated Telecommunications Company...</td>\n",
       "      <td>1</td>\n",
       "      <td>N/A</td>\n",
       "      <td>N/A</td>\n",
       "      <td>N/A</td>\n",
       "      <td>Mozilla/5.0 (Windows NT 10.0; Win64; x64; rv:1...</td>\n",
       "      <td>2024-05-24 13:07:39.245</td>\n",
       "    </tr>\n",
       "    <tr>\n",
       "      <th>2</th>\n",
       "      <td>66509f82dfa5d34b327309f2</td>\n",
       "      <td>66322d94f89c7cd14b365ea8</td>\n",
       "      <td>mahad</td>\n",
       "      <td>94.204.58.82</td>\n",
       "      <td>F4:39:09:77:D5:5B</td>\n",
       "      <td>Dubai</td>\n",
       "      <td>Dubai</td>\n",
       "      <td>United Arab Emirates</td>\n",
       "      <td>[25.0731, 55.298]</td>\n",
       "      <td>Emirates Integrated Telecommunications Company...</td>\n",
       "      <td>1</td>\n",
       "      <td>N/A</td>\n",
       "      <td>N/A</td>\n",
       "      <td>N/A</td>\n",
       "      <td>Mozilla/5.0 (Windows NT 10.0; Win64; x64; rv:1...</td>\n",
       "      <td>2024-05-24 18:09:06.004</td>\n",
       "    </tr>\n",
       "  </tbody>\n",
       "</table>\n",
       "</div>"
      ],
      "text/plain": [
       "                        _id                   user_id username            ip  \\\n",
       "0  665057e8b4bee6cd9cb53210  66322d94f89c7cd14b365ea8    mahad  94.204.58.82   \n",
       "1  665058db079089a76c98e652  66322d94f89c7cd14b365ea8    mahad  94.204.58.82   \n",
       "2  66509f82dfa5d34b327309f2  66322d94f89c7cd14b365ea8    mahad  94.204.58.82   \n",
       "\n",
       "                 mac location   city               country        coordinates  \\\n",
       "0  F4:39:09:77:D5:5B      N/A    N/A                   N/A         [N/A, N/A]   \n",
       "1  F4:39:09:77:D5:5B    Dubai  Dubai  United Arab Emirates  [25.0731, 55.298]   \n",
       "2  F4:39:09:77:D5:5B    Dubai  Dubai  United Arab Emirates  [25.0731, 55.298]   \n",
       "\n",
       "                                                 isp  number_of_screens  \\\n",
       "0                                                N/A                  1   \n",
       "1  Emirates Integrated Telecommunications Company...                  1   \n",
       "2  Emirates Integrated Telecommunications Company...                  1   \n",
       "\n",
       "  browser_info browser_version platform  \\\n",
       "0          N/A             N/A      N/A   \n",
       "1          N/A             N/A      N/A   \n",
       "2          N/A             N/A      N/A   \n",
       "\n",
       "                                          user_agent               timestamp  \n",
       "0  Mozilla/5.0 (Windows NT 10.0; Win64; x64; rv:1... 2024-05-24 13:03:36.930  \n",
       "1  Mozilla/5.0 (Windows NT 10.0; Win64; x64; rv:1... 2024-05-24 13:07:39.245  \n",
       "2  Mozilla/5.0 (Windows NT 10.0; Win64; x64; rv:1... 2024-05-24 18:09:06.004  "
      ]
     },
     "execution_count": 8,
     "metadata": {},
     "output_type": "execute_result"
    }
   ],
   "source": [
    "general_data.head()"
   ]
  },
  {
   "cell_type": "code",
   "execution_count": 9,
   "id": "2ba04a95-966e-467d-a80f-18fbf4d1e14e",
   "metadata": {},
   "outputs": [],
   "source": [
    "# Convert '_id' to string if it is not already\n",
    "general_data.drop(columns=['_id'],inplace=True)\n",
    "# Replace 'N/A' with NaN\n",
    "general_data.replace('N/A', np.nan, inplace=True)\n",
    "general_data.fillna({\n",
    "    'browser_info': 'Unknown',\n",
    "    'browser_version': 'Unknown',\n",
    "    'platform': 'Unknown'\n",
    "}, inplace=True)"
   ]
  },
  {
   "cell_type": "code",
   "execution_count": 10,
   "id": "855fe2b9-3aee-4951-9df9-c5441d27a28e",
   "metadata": {},
   "outputs": [],
   "source": [
    "# Extract browser and OS from 'user_agent'\n",
    "def extract_browser_info(user_agent):\n",
    "    if pd.isna(user_agent):\n",
    "        return 'Unknown', 'Unknown'\n",
    "    browser = re.search(r'(Firefox|Chrome|Safari|Opera|Edge|MSIE)', user_agent)\n",
    "    os = re.search(r'\\((.*?)\\)', user_agent)\n",
    "    return (browser.group(0) if browser else 'Unknown', os.group(1) if os else 'Unknown')\n",
    "\n",
    "general_data['browser'],general_data['os'] = zip(*general_data['user_agent'].apply(extract_browser_info))\n",
    "general_data.drop(columns=['user_agent'],inplace=True)\n"
   ]
  },
  {
   "cell_type": "code",
   "execution_count": 11,
   "id": "efaeb374-2581-499f-a04e-1b65c3e70453",
   "metadata": {},
   "outputs": [],
   "source": [
    "# Standardize 'number_of_screens'\n",
    "scaler = StandardScaler()\n",
    "general_data['number_of_screens'] = scaler.fit_transform(general_data[['number_of_screens']])"
   ]
  },
  {
   "cell_type": "code",
   "execution_count": 12,
   "id": "3dcfafb5-52c9-4fe3-ba36-ddcdf59ad9e8",
   "metadata": {},
   "outputs": [],
   "source": [
    "# Label encoding for 'user_id'\n",
    "label_encoder = LabelEncoder()\n",
    "general_data['user_id'] = label_encoder.fit_transform(general_data['user_id'])\n"
   ]
  },
  {
   "cell_type": "code",
   "execution_count": 13,
   "id": "3b6579ae-900d-47c1-8fde-c224c5ecb3df",
   "metadata": {},
   "outputs": [
    {
     "data": {
      "text/html": [
       "<div>\n",
       "<style scoped>\n",
       "    .dataframe tbody tr th:only-of-type {\n",
       "        vertical-align: middle;\n",
       "    }\n",
       "\n",
       "    .dataframe tbody tr th {\n",
       "        vertical-align: top;\n",
       "    }\n",
       "\n",
       "    .dataframe thead th {\n",
       "        text-align: right;\n",
       "    }\n",
       "</style>\n",
       "<table border=\"1\" class=\"dataframe\">\n",
       "  <thead>\n",
       "    <tr style=\"text-align: right;\">\n",
       "      <th></th>\n",
       "      <th>user_id</th>\n",
       "      <th>username</th>\n",
       "      <th>ip</th>\n",
       "      <th>mac</th>\n",
       "      <th>location</th>\n",
       "      <th>city</th>\n",
       "      <th>country</th>\n",
       "      <th>coordinates</th>\n",
       "      <th>isp</th>\n",
       "      <th>number_of_screens</th>\n",
       "      <th>browser_info</th>\n",
       "      <th>browser_version</th>\n",
       "      <th>platform</th>\n",
       "      <th>timestamp</th>\n",
       "      <th>browser</th>\n",
       "      <th>os</th>\n",
       "    </tr>\n",
       "  </thead>\n",
       "  <tbody>\n",
       "    <tr>\n",
       "      <th>0</th>\n",
       "      <td>0</td>\n",
       "      <td>mahad</td>\n",
       "      <td>94.204.58.82</td>\n",
       "      <td>F4:39:09:77:D5:5B</td>\n",
       "      <td>NaN</td>\n",
       "      <td>NaN</td>\n",
       "      <td>NaN</td>\n",
       "      <td>[N/A, N/A]</td>\n",
       "      <td>NaN</td>\n",
       "      <td>0.0</td>\n",
       "      <td>Unknown</td>\n",
       "      <td>Unknown</td>\n",
       "      <td>Unknown</td>\n",
       "      <td>2024-05-24 13:03:36.930</td>\n",
       "      <td>Firefox</td>\n",
       "      <td>Windows NT 10.0; Win64; x64; rv:126.0</td>\n",
       "    </tr>\n",
       "    <tr>\n",
       "      <th>1</th>\n",
       "      <td>0</td>\n",
       "      <td>mahad</td>\n",
       "      <td>94.204.58.82</td>\n",
       "      <td>F4:39:09:77:D5:5B</td>\n",
       "      <td>Dubai</td>\n",
       "      <td>Dubai</td>\n",
       "      <td>United Arab Emirates</td>\n",
       "      <td>[25.0731, 55.298]</td>\n",
       "      <td>Emirates Integrated Telecommunications Company...</td>\n",
       "      <td>0.0</td>\n",
       "      <td>Unknown</td>\n",
       "      <td>Unknown</td>\n",
       "      <td>Unknown</td>\n",
       "      <td>2024-05-24 13:07:39.245</td>\n",
       "      <td>Firefox</td>\n",
       "      <td>Windows NT 10.0; Win64; x64; rv:126.0</td>\n",
       "    </tr>\n",
       "    <tr>\n",
       "      <th>2</th>\n",
       "      <td>0</td>\n",
       "      <td>mahad</td>\n",
       "      <td>94.204.58.82</td>\n",
       "      <td>F4:39:09:77:D5:5B</td>\n",
       "      <td>Dubai</td>\n",
       "      <td>Dubai</td>\n",
       "      <td>United Arab Emirates</td>\n",
       "      <td>[25.0731, 55.298]</td>\n",
       "      <td>Emirates Integrated Telecommunications Company...</td>\n",
       "      <td>0.0</td>\n",
       "      <td>Unknown</td>\n",
       "      <td>Unknown</td>\n",
       "      <td>Unknown</td>\n",
       "      <td>2024-05-24 18:09:06.004</td>\n",
       "      <td>Firefox</td>\n",
       "      <td>Windows NT 10.0; Win64; x64; rv:126.0</td>\n",
       "    </tr>\n",
       "  </tbody>\n",
       "</table>\n",
       "</div>"
      ],
      "text/plain": [
       "   user_id username            ip                mac location   city  \\\n",
       "0        0    mahad  94.204.58.82  F4:39:09:77:D5:5B      NaN    NaN   \n",
       "1        0    mahad  94.204.58.82  F4:39:09:77:D5:5B    Dubai  Dubai   \n",
       "2        0    mahad  94.204.58.82  F4:39:09:77:D5:5B    Dubai  Dubai   \n",
       "\n",
       "                country        coordinates  \\\n",
       "0                   NaN         [N/A, N/A]   \n",
       "1  United Arab Emirates  [25.0731, 55.298]   \n",
       "2  United Arab Emirates  [25.0731, 55.298]   \n",
       "\n",
       "                                                 isp  number_of_screens  \\\n",
       "0                                                NaN                0.0   \n",
       "1  Emirates Integrated Telecommunications Company...                0.0   \n",
       "2  Emirates Integrated Telecommunications Company...                0.0   \n",
       "\n",
       "  browser_info browser_version platform               timestamp  browser  \\\n",
       "0      Unknown         Unknown  Unknown 2024-05-24 13:03:36.930  Firefox   \n",
       "1      Unknown         Unknown  Unknown 2024-05-24 13:07:39.245  Firefox   \n",
       "2      Unknown         Unknown  Unknown 2024-05-24 18:09:06.004  Firefox   \n",
       "\n",
       "                                      os  \n",
       "0  Windows NT 10.0; Win64; x64; rv:126.0  \n",
       "1  Windows NT 10.0; Win64; x64; rv:126.0  \n",
       "2  Windows NT 10.0; Win64; x64; rv:126.0  "
      ]
     },
     "execution_count": 13,
     "metadata": {},
     "output_type": "execute_result"
    }
   ],
   "source": [
    "general_data.head()"
   ]
  },
  {
   "cell_type": "markdown",
   "id": "b0850c93-09a5-49e5-bb9c-1b5e9c7c5f3d",
   "metadata": {},
   "source": [
    "# more steps TODO\n",
    "# drop NaN\n",
    "# encode the catigorical features"
   ]
  },
  {
   "cell_type": "markdown",
   "id": "03663253-b704-4134-85dc-ec886f03353c",
   "metadata": {},
   "source": [
    "# END"
   ]
  }
 ],
 "metadata": {
  "kernelspec": {
   "display_name": "Python 3 (ipykernel)",
   "language": "python",
   "name": "python3"
  },
  "language_info": {
   "codemirror_mode": {
    "name": "ipython",
    "version": 3
   },
   "file_extension": ".py",
   "mimetype": "text/x-python",
   "name": "python",
   "nbconvert_exporter": "python",
   "pygments_lexer": "ipython3",
   "version": "3.8.19"
  }
 },
 "nbformat": 4,
 "nbformat_minor": 5
}
